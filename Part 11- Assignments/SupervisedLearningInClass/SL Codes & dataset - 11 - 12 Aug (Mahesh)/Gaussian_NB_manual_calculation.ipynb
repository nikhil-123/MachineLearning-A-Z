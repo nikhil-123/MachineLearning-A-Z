{
 "cells": [
  {
   "cell_type": "code",
   "execution_count": 1,
   "metadata": {
    "collapsed": true
   },
   "outputs": [],
   "source": [
    "import numpy as np"
   ]
  },
  {
   "cell_type": "code",
   "execution_count": 2,
   "metadata": {
    "collapsed": true
   },
   "outputs": [],
   "source": [
    "def my_gpdf(x,mean,sd):\n",
    "    exponent=np.exp(-((x-mean)**2/(2*sd**2)))\n",
    "    return (1/(np.sqrt(2*np.pi)*sd))*exponent\n"
   ]
  },
  {
   "cell_type": "code",
   "execution_count": 3,
   "metadata": {},
   "outputs": [
    {
     "data": {
      "text/plain": [
       "0.41912612531096405"
      ]
     },
     "execution_count": 3,
     "metadata": {},
     "output_type": "execute_result"
    }
   ],
   "source": [
    "my_gpdf(2.98,2.74,0.92)"
   ]
  },
  {
   "cell_type": "code",
   "execution_count": 4,
   "metadata": {},
   "outputs": [
    {
     "data": {
      "text/plain": [
       "0.2002613655846145"
      ]
     },
     "execution_count": 4,
     "metadata": {},
     "output_type": "execute_result"
    }
   ],
   "source": [
    "my_gpdf(1.80,3,1.107)"
   ]
  },
  {
   "cell_type": "code",
   "execution_count": 6,
   "metadata": {},
   "outputs": [
    {
     "name": "stdout",
     "output_type": "stream",
     "text": [
      "0.041967385103480956\n"
     ]
    }
   ],
   "source": [
    "p_class_0=my_gpdf(2.98,2.74,0.92)*my_gpdf(1.80,3,1.107)*0.5\n",
    "print(p_class_0)"
   ]
  },
  {
   "cell_type": "code",
   "execution_count": 7,
   "metadata": {},
   "outputs": [
    {
     "name": "stdout",
     "output_type": "stream",
     "text": [
      "2.6693976980005123e-05\n"
     ]
    }
   ],
   "source": [
    "p_class_1=my_gpdf(2.98,7.61,1.23)*my_gpdf(1.80,2.99,1.45)*0.5\n",
    "print(p_class_1)"
   ]
  },
  {
   "cell_type": "code",
   "execution_count": 8,
   "metadata": {},
   "outputs": [
    {
     "name": "stdout",
     "output_type": "stream",
     "text": [
      "7.678165435586089e-12\n"
     ]
    }
   ],
   "source": [
    "#Test Record: [8.96,2.32]\n",
    "p_class_0=my_gpdf(8.96,2.74,0.92)*my_gpdf(2.32,3,1.107)*0.5\n",
    "print(p_class_0)"
   ]
  },
  {
   "cell_type": "code",
   "execution_count": 9,
   "metadata": {},
   "outputs": [
    {
     "name": "stdout",
     "output_type": "stream",
     "text": [
      "0.021956855059489598\n"
     ]
    }
   ],
   "source": [
    "p_class_1=my_gpdf(8.96,7.61,1.23)*my_gpdf(2.32,2.99,1.45)*0.5\n",
    "print(p_class_1)"
   ]
  }
 ],
 "metadata": {
  "kernelspec": {
   "display_name": "Python 3",
   "language": "python",
   "name": "python3"
  },
  "language_info": {
   "codemirror_mode": {
    "name": "ipython",
    "version": 3
   },
   "file_extension": ".py",
   "mimetype": "text/x-python",
   "name": "python",
   "nbconvert_exporter": "python",
   "pygments_lexer": "ipython3",
   "version": "3.6.3"
  }
 },
 "nbformat": 4,
 "nbformat_minor": 2
}
